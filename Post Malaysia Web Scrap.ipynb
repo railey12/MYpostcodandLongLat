{
 "cells": [
  {
   "cell_type": "code",
   "execution_count": 401,
   "metadata": {},
   "outputs": [],
   "source": [
    "import requests\n",
    "import pandas\n",
    "import numpy\n",
    "import re\n",
    "import csv\n",
    "\n",
    "from bs4 import BeautifulSoup\n",
    "#### page info ###\n",
    "for k in range (1,80):\n",
    "    k=str(k)\n",
    "    page = requests.get(\"https://postcode.my/search/?keyword=&state=Kedah&page=\"+k)\n",
    "#### check page status (will come 200 if the page is ok) \n",
    "    page.status_code\n",
    "### call Library\n",
    "    soup = BeautifulSoup(page.content, 'html.parser')\n",
    "### Find rows \n",
    "    rows = soup.find_all(class_=\"col-lg-12 col-md-12 col-sm-12 col-xs-12\")\n",
    "## create list by append\n",
    "    L=[]\n",
    "    for row in rows:\n",
    "        cols = row.find_all(\"td\")\n",
    "        cols = [x.text.strip() for x in cols]\n",
    "        L.append(cols)\n",
    "## convert to numpy array and reshape to 4 columns \n",
    "        cols = ['LOCATION','AREA','STATE','POSTCODE']\n",
    "        PDTABLE = pandas.DataFrame(numpy.array(L).reshape(-1,4),columns = cols)\n",
    "        print(PDTABLE)\n",
    "##PDTABLE.to_csv('test.csv')\n",
    "        \n"
   ]
  },
  {
   "cell_type": "code",
   "execution_count": 380,
   "metadata": {},
   "outputs": [
    {
     "name": "stdout",
     "output_type": "stream",
     "text": [
      "                                 LOCATION             AREA  STATE POSTCODE\n",
      "0                         Akauntan Negeri       Alor Setar  Kedah    05594\n",
      "1                            Alor Gelegah       Alor Setar  Kedah    05400\n",
      "2                     Alor Ibus Tepi Laut      Kuala Kedah  Kedah    06600\n",
      "3                            Alor Janggus       Alor Setar  Kedah    06250\n",
      "4                              Alor Malai       Alor Setar  Kedah    05460\n",
      "5                     Alor Melintang Anak       Alor Setar  Kedah    05150\n",
      "6                   Alor Melintang Gunung       Alor Setar  Kedah    05150\n",
      "7                              Alor Merah       Alor Setar  Kedah    05250\n",
      "8                             Alor Nibong  Kota Kuala Muda  Kedah    08500\n",
      "9                              Alor Selut       Alor Setar  Kedah    05400\n",
      "10              Alor Setar - Beg berkunci       Alor Setar  Kedah    05990\n",
      "11         Alor Setar - Peti surat 1 - 80       Alor Setar  Kedah    05700\n",
      "12  Alor Setar - Peti surat 161 & ke atas       Alor Setar  Kedah    05720\n",
      "13       Alor Setar - Peti surat 81 - 160       Alor Setar  Kedah    05710\n",
      "14                     Amanah Raya Berhad       Alor Setar  Kedah    05508\n",
      "15                        Ambangan Height    Sungai Petani  Kedah    08000\n",
      "16                          Ampangan Pedu     Kuala Nerang  Kedah    06300\n",
      "17                             Anak Bukit       Alor Setar  Kedah    06550\n",
      "18                       Anjung Pedu Lake     Kuala Nerang  Kedah    06300\n",
      "19                                   Ason            Jitra  Kedah    06000\n"
     ]
    },
    {
     "ename": "TypeError",
     "evalue": "expected str, bytes or os.PathLike object, not list",
     "output_type": "error",
     "traceback": [
      "\u001b[1;31m---------------------------------------------------------------------------\u001b[0m",
      "\u001b[1;31mTypeError\u001b[0m                                 Traceback (most recent call last)",
      "\u001b[1;32m<ipython-input-380-0de6986d9558>\u001b[0m in \u001b[0;36m<module>\u001b[1;34m()\u001b[0m\n\u001b[0;32m     28\u001b[0m \u001b[1;33m\u001b[0m\u001b[0m\n\u001b[0;32m     29\u001b[0m \u001b[0mfields\u001b[0m\u001b[1;33m=\u001b[0m\u001b[1;33m[\u001b[0m\u001b[1;34m',NO'\u001b[0m\u001b[1;33m,\u001b[0m\u001b[1;34m'LOCATION'\u001b[0m\u001b[1;33m,\u001b[0m\u001b[1;34m'AREA'\u001b[0m\u001b[1;33m,\u001b[0m\u001b[1;34m'STATE'\u001b[0m\u001b[1;33m,\u001b[0m\u001b[1;34m'POSTCODE'\u001b[0m\u001b[1;33m]\u001b[0m\u001b[1;33m\u001b[0m\u001b[0m\n\u001b[1;32m---> 30\u001b[1;33m \u001b[1;32mwith\u001b[0m \u001b[0mopen\u001b[0m\u001b[1;33m(\u001b[0m\u001b[0mTEST\u001b[0m\u001b[1;33m,\u001b[0m \u001b[1;34m'a'\u001b[0m\u001b[1;33m)\u001b[0m \u001b[1;32mas\u001b[0m \u001b[0mf\u001b[0m\u001b[1;33m:\u001b[0m\u001b[1;33m\u001b[0m\u001b[0m\n\u001b[0m\u001b[0;32m     31\u001b[0m     \u001b[0mwriter\u001b[0m \u001b[1;33m=\u001b[0m \u001b[0mcsv\u001b[0m\u001b[1;33m.\u001b[0m\u001b[0mwriter\u001b[0m\u001b[1;33m(\u001b[0m\u001b[0mf\u001b[0m\u001b[1;33m)\u001b[0m\u001b[1;33m\u001b[0m\u001b[0m\n\u001b[0;32m     32\u001b[0m     \u001b[0mwriter\u001b[0m\u001b[1;33m.\u001b[0m\u001b[0mwriterow\u001b[0m\u001b[1;33m(\u001b[0m\u001b[0mfields\u001b[0m\u001b[1;33m)\u001b[0m\u001b[1;33m\u001b[0m\u001b[0m\n",
      "\u001b[1;31mTypeError\u001b[0m: expected str, bytes or os.PathLike object, not list"
     ]
    }
   ],
   "source": [
    "import requests\n",
    "import pandas\n",
    "import numpy\n",
    "import re\n",
    "import csv\n",
    "\n",
    "from bs4 import BeautifulSoup\n",
    "#### page info ###\n",
    "for k in range (1,2):\n",
    "    k=str(k)\n",
    "    page = requests.get(\"https://postcode.my/search/?keyword=&state=Kedah&page=\"+k)\n",
    "#### check page status (will come 200 if the page is ok) \n",
    "    page.status_code\n",
    "### call Library\n",
    "    soup = BeautifulSoup(page.content, 'html.parser')\n",
    "### Find rows \n",
    "    rows = soup.find_all(class_=\"col-lg-12 col-md-12 col-sm-12 col-xs-12\")\n",
    "## create list by append\n",
    "    L=[]\n",
    "    for row in rows:\n",
    "        cols = row.find_all(\"td\")\n",
    "        cols = [x.text.strip() for x in cols]\n",
    "        L.append(cols)\n",
    "## convert to numpy array and reshape to 4 columns\n",
    "cols = ['LOCATION','AREA','STATE','POSTCODE']\n",
    "PDTABLE = pandas.DataFrame(numpy.array(L).reshape(-1,4),columns = cols)\n",
    "print(PDTABLE)\n",
    "\n",
    "fields=[',NO','LOCATION','AREA','STATE','POSTCODE']\n",
    "with open(TEST, 'a') as f:\n",
    "    writer = csv.writer(f)\n",
    "    writer.writerow(fields)\n"
   ]
  },
  {
   "cell_type": "code",
   "execution_count": 403,
   "metadata": {},
   "outputs": [
    {
     "name": "stdout",
     "output_type": "stream",
     "text": [
      "                      LOCATION           AREA  STATE POSTCODE\n",
      "0   Jalan Sungai Petani (Km 5)     Alor Setar  Kedah    05400\n",
      "1          Jalan Sungai Rambai  Bandar Baharu  Kedah    14290\n",
      "2           Jalan Syed Mohamed     Alor Setar  Kedah    05350\n",
      "3             Jalan Taman Golf     Alor Setar  Kedah    05250\n",
      "4            Jalan Taman Intan  Sungai Petani  Kedah    08000\n",
      "5          Jalan Taman Lum Sun     Alor Setar  Kedah    05200\n",
      "6         Jalan Taman Malaysia     Alor Setar  Kedah    05250\n",
      "7          Jalan Tambang Badak     Alor Setar  Kedah    05100\n",
      "8      Jalan Tanjong Bendahara     Alor Setar  Kedah    05300\n",
      "9             Jalan Telok Sena     Alor Setar  Kedah    05100\n",
      "10          Jalan Teluk Wanjah     Alor Setar  Kedah    05200\n",
      "11     Jalan Teluk Wanjah Kiri     Alor Setar  Kedah    05200\n",
      "12             Jalan Teluk Yan     Alor Setar  Kedah    05150\n",
      "13               Jalan Tembaga     Alor Setar  Kedah    05150\n",
      "14                Jalan Tengah     Alor Setar  Kedah    05100\n",
      "15         Jalan Tengku Habsah     Alor Setar  Kedah    05100\n",
      "16        Jalan Tengku Ibrahim     Alor Setar  Kedah    05460\n",
      "17                Jalan Terang     Alor Setar  Kedah    05100\n",
      "18        Jalan Teratai Jingga     Alor Setar  Kedah    05050\n",
      "19                 Jalan Terus     Alor Setar  Kedah    05250\n"
     ]
    }
   ],
   "source": [
    "import requests\n",
    "import pandas\n",
    "import numpy\n",
    "import re\n",
    "import csv\n",
    "\n",
    "from bs4 import BeautifulSoup\n",
    "#### page info ###\n",
    "for k in range (1,80):\n",
    "    k=str(k)\n",
    "    page = requests.get(\"https://postcode.my/search/?keyword=&state=Kedah&page=\"+k)\n",
    "#### check page status (will come 200 if the page is ok) \n",
    "    page.status_code\n",
    "### call Library\n",
    "    soup = BeautifulSoup(page.content, 'html.parser')\n",
    "### Find rows \n",
    "    rows = soup.find_all(class_=\"col-lg-12 col-md-12 col-sm-12 col-xs-12\")\n",
    "## create list by append\n",
    "    L=[]\n",
    "    for row in rows:\n",
    "        cols = row.find_all(\"td\")\n",
    "        cols = [x.text.strip() for x in cols]\n",
    "        L.append(cols)\n",
    "## convert to numpy array and reshape to 4 columns \n",
    "        cols = ['LOCATION','AREA','STATE','POSTCODE']\n",
    "        PDTABLE = pandas.DataFrame(numpy.array(L).reshape(-1,4),columns = cols)\n",
    "print(PDTABLE)\n",
    "##PDTABLE.to_csv('test.csv')"
   ]
  },
  {
   "cell_type": "code",
   "execution_count": 424,
   "metadata": {},
   "outputs": [
    {
     "ename": "SSLError",
     "evalue": "HTTPSConnectionPool(host='postcode.my', port=443): Max retries exceeded with url: /search/?keyword=&state=Johor&page=66 (Caused by SSLError(SSLError(\"bad handshake: SysCallError(-1, 'Unexpected EOF')\",),))",
     "output_type": "error",
     "traceback": [
      "\u001b[1;31m---------------------------------------------------------------------------\u001b[0m",
      "\u001b[1;31mSysCallError\u001b[0m                              Traceback (most recent call last)",
      "\u001b[1;32m~\\AppData\\Local\\Continuum\\anaconda3\\lib\\site-packages\\urllib3\\contrib\\pyopenssl.py\u001b[0m in \u001b[0;36mwrap_socket\u001b[1;34m(self, sock, server_side, do_handshake_on_connect, suppress_ragged_eofs, server_hostname)\u001b[0m\n\u001b[0;32m    440\u001b[0m             \u001b[1;32mtry\u001b[0m\u001b[1;33m:\u001b[0m\u001b[1;33m\u001b[0m\u001b[0m\n\u001b[1;32m--> 441\u001b[1;33m                 \u001b[0mcnx\u001b[0m\u001b[1;33m.\u001b[0m\u001b[0mdo_handshake\u001b[0m\u001b[1;33m(\u001b[0m\u001b[1;33m)\u001b[0m\u001b[1;33m\u001b[0m\u001b[0m\n\u001b[0m\u001b[0;32m    442\u001b[0m             \u001b[1;32mexcept\u001b[0m \u001b[0mOpenSSL\u001b[0m\u001b[1;33m.\u001b[0m\u001b[0mSSL\u001b[0m\u001b[1;33m.\u001b[0m\u001b[0mWantReadError\u001b[0m\u001b[1;33m:\u001b[0m\u001b[1;33m\u001b[0m\u001b[0m\n",
      "\u001b[1;32m~\\AppData\\Local\\Continuum\\anaconda3\\lib\\site-packages\\OpenSSL\\SSL.py\u001b[0m in \u001b[0;36mdo_handshake\u001b[1;34m(self)\u001b[0m\n\u001b[0;32m   1906\u001b[0m         \u001b[0mresult\u001b[0m \u001b[1;33m=\u001b[0m \u001b[0m_lib\u001b[0m\u001b[1;33m.\u001b[0m\u001b[0mSSL_do_handshake\u001b[0m\u001b[1;33m(\u001b[0m\u001b[0mself\u001b[0m\u001b[1;33m.\u001b[0m\u001b[0m_ssl\u001b[0m\u001b[1;33m)\u001b[0m\u001b[1;33m\u001b[0m\u001b[0m\n\u001b[1;32m-> 1907\u001b[1;33m         \u001b[0mself\u001b[0m\u001b[1;33m.\u001b[0m\u001b[0m_raise_ssl_error\u001b[0m\u001b[1;33m(\u001b[0m\u001b[0mself\u001b[0m\u001b[1;33m.\u001b[0m\u001b[0m_ssl\u001b[0m\u001b[1;33m,\u001b[0m \u001b[0mresult\u001b[0m\u001b[1;33m)\u001b[0m\u001b[1;33m\u001b[0m\u001b[0m\n\u001b[0m\u001b[0;32m   1908\u001b[0m \u001b[1;33m\u001b[0m\u001b[0m\n",
      "\u001b[1;32m~\\AppData\\Local\\Continuum\\anaconda3\\lib\\site-packages\\OpenSSL\\SSL.py\u001b[0m in \u001b[0;36m_raise_ssl_error\u001b[1;34m(self, ssl, result)\u001b[0m\n\u001b[0;32m   1631\u001b[0m                         \u001b[1;32mraise\u001b[0m \u001b[0mSysCallError\u001b[0m\u001b[1;33m(\u001b[0m\u001b[0merrno\u001b[0m\u001b[1;33m,\u001b[0m \u001b[0merrorcode\u001b[0m\u001b[1;33m.\u001b[0m\u001b[0mget\u001b[0m\u001b[1;33m(\u001b[0m\u001b[0merrno\u001b[0m\u001b[1;33m)\u001b[0m\u001b[1;33m)\u001b[0m\u001b[1;33m\u001b[0m\u001b[0m\n\u001b[1;32m-> 1632\u001b[1;33m                 \u001b[1;32mraise\u001b[0m \u001b[0mSysCallError\u001b[0m\u001b[1;33m(\u001b[0m\u001b[1;33m-\u001b[0m\u001b[1;36m1\u001b[0m\u001b[1;33m,\u001b[0m \u001b[1;34m\"Unexpected EOF\"\u001b[0m\u001b[1;33m)\u001b[0m\u001b[1;33m\u001b[0m\u001b[0m\n\u001b[0m\u001b[0;32m   1633\u001b[0m             \u001b[1;32melse\u001b[0m\u001b[1;33m:\u001b[0m\u001b[1;33m\u001b[0m\u001b[0m\n",
      "\u001b[1;31mSysCallError\u001b[0m: (-1, 'Unexpected EOF')",
      "\nDuring handling of the above exception, another exception occurred:\n",
      "\u001b[1;31mSSLError\u001b[0m                                  Traceback (most recent call last)",
      "\u001b[1;32m~\\AppData\\Local\\Continuum\\anaconda3\\lib\\site-packages\\urllib3\\connectionpool.py\u001b[0m in \u001b[0;36murlopen\u001b[1;34m(self, method, url, body, headers, retries, redirect, assert_same_host, timeout, pool_timeout, release_conn, chunked, body_pos, **response_kw)\u001b[0m\n\u001b[0;32m    600\u001b[0m                                                   \u001b[0mbody\u001b[0m\u001b[1;33m=\u001b[0m\u001b[0mbody\u001b[0m\u001b[1;33m,\u001b[0m \u001b[0mheaders\u001b[0m\u001b[1;33m=\u001b[0m\u001b[0mheaders\u001b[0m\u001b[1;33m,\u001b[0m\u001b[1;33m\u001b[0m\u001b[0m\n\u001b[1;32m--> 601\u001b[1;33m                                                   chunked=chunked)\n\u001b[0m\u001b[0;32m    602\u001b[0m \u001b[1;33m\u001b[0m\u001b[0m\n",
      "\u001b[1;32m~\\AppData\\Local\\Continuum\\anaconda3\\lib\\site-packages\\urllib3\\connectionpool.py\u001b[0m in \u001b[0;36m_make_request\u001b[1;34m(self, conn, method, url, timeout, chunked, **httplib_request_kw)\u001b[0m\n\u001b[0;32m    345\u001b[0m         \u001b[1;32mtry\u001b[0m\u001b[1;33m:\u001b[0m\u001b[1;33m\u001b[0m\u001b[0m\n\u001b[1;32m--> 346\u001b[1;33m             \u001b[0mself\u001b[0m\u001b[1;33m.\u001b[0m\u001b[0m_validate_conn\u001b[0m\u001b[1;33m(\u001b[0m\u001b[0mconn\u001b[0m\u001b[1;33m)\u001b[0m\u001b[1;33m\u001b[0m\u001b[0m\n\u001b[0m\u001b[0;32m    347\u001b[0m         \u001b[1;32mexcept\u001b[0m \u001b[1;33m(\u001b[0m\u001b[0mSocketTimeout\u001b[0m\u001b[1;33m,\u001b[0m \u001b[0mBaseSSLError\u001b[0m\u001b[1;33m)\u001b[0m \u001b[1;32mas\u001b[0m \u001b[0me\u001b[0m\u001b[1;33m:\u001b[0m\u001b[1;33m\u001b[0m\u001b[0m\n",
      "\u001b[1;32m~\\AppData\\Local\\Continuum\\anaconda3\\lib\\site-packages\\urllib3\\connectionpool.py\u001b[0m in \u001b[0;36m_validate_conn\u001b[1;34m(self, conn)\u001b[0m\n\u001b[0;32m    849\u001b[0m         \u001b[1;32mif\u001b[0m \u001b[1;32mnot\u001b[0m \u001b[0mgetattr\u001b[0m\u001b[1;33m(\u001b[0m\u001b[0mconn\u001b[0m\u001b[1;33m,\u001b[0m \u001b[1;34m'sock'\u001b[0m\u001b[1;33m,\u001b[0m \u001b[1;32mNone\u001b[0m\u001b[1;33m)\u001b[0m\u001b[1;33m:\u001b[0m  \u001b[1;31m# AppEngine might not have  `.sock`\u001b[0m\u001b[1;33m\u001b[0m\u001b[0m\n\u001b[1;32m--> 850\u001b[1;33m             \u001b[0mconn\u001b[0m\u001b[1;33m.\u001b[0m\u001b[0mconnect\u001b[0m\u001b[1;33m(\u001b[0m\u001b[1;33m)\u001b[0m\u001b[1;33m\u001b[0m\u001b[0m\n\u001b[0m\u001b[0;32m    851\u001b[0m \u001b[1;33m\u001b[0m\u001b[0m\n",
      "\u001b[1;32m~\\AppData\\Local\\Continuum\\anaconda3\\lib\\site-packages\\urllib3\\connection.py\u001b[0m in \u001b[0;36mconnect\u001b[1;34m(self)\u001b[0m\n\u001b[0;32m    325\u001b[0m             \u001b[0mserver_hostname\u001b[0m\u001b[1;33m=\u001b[0m\u001b[0mhostname\u001b[0m\u001b[1;33m,\u001b[0m\u001b[1;33m\u001b[0m\u001b[0m\n\u001b[1;32m--> 326\u001b[1;33m             ssl_context=context)\n\u001b[0m\u001b[0;32m    327\u001b[0m \u001b[1;33m\u001b[0m\u001b[0m\n",
      "\u001b[1;32m~\\AppData\\Local\\Continuum\\anaconda3\\lib\\site-packages\\urllib3\\util\\ssl_.py\u001b[0m in \u001b[0;36mssl_wrap_socket\u001b[1;34m(sock, keyfile, certfile, cert_reqs, ca_certs, server_hostname, ssl_version, ciphers, ssl_context, ca_cert_dir)\u001b[0m\n\u001b[0;32m    328\u001b[0m     \u001b[1;32mif\u001b[0m \u001b[0mHAS_SNI\u001b[0m\u001b[1;33m:\u001b[0m  \u001b[1;31m# Platform-specific: OpenSSL with enabled SNI\u001b[0m\u001b[1;33m\u001b[0m\u001b[0m\n\u001b[1;32m--> 329\u001b[1;33m         \u001b[1;32mreturn\u001b[0m \u001b[0mcontext\u001b[0m\u001b[1;33m.\u001b[0m\u001b[0mwrap_socket\u001b[0m\u001b[1;33m(\u001b[0m\u001b[0msock\u001b[0m\u001b[1;33m,\u001b[0m \u001b[0mserver_hostname\u001b[0m\u001b[1;33m=\u001b[0m\u001b[0mserver_hostname\u001b[0m\u001b[1;33m)\u001b[0m\u001b[1;33m\u001b[0m\u001b[0m\n\u001b[0m\u001b[0;32m    330\u001b[0m \u001b[1;33m\u001b[0m\u001b[0m\n",
      "\u001b[1;32m~\\AppData\\Local\\Continuum\\anaconda3\\lib\\site-packages\\urllib3\\contrib\\pyopenssl.py\u001b[0m in \u001b[0;36mwrap_socket\u001b[1;34m(self, sock, server_side, do_handshake_on_connect, suppress_ragged_eofs, server_hostname)\u001b[0m\n\u001b[0;32m    447\u001b[0m             \u001b[1;32mexcept\u001b[0m \u001b[0mOpenSSL\u001b[0m\u001b[1;33m.\u001b[0m\u001b[0mSSL\u001b[0m\u001b[1;33m.\u001b[0m\u001b[0mError\u001b[0m \u001b[1;32mas\u001b[0m \u001b[0me\u001b[0m\u001b[1;33m:\u001b[0m\u001b[1;33m\u001b[0m\u001b[0m\n\u001b[1;32m--> 448\u001b[1;33m                 \u001b[1;32mraise\u001b[0m \u001b[0mssl\u001b[0m\u001b[1;33m.\u001b[0m\u001b[0mSSLError\u001b[0m\u001b[1;33m(\u001b[0m\u001b[1;34m'bad handshake: %r'\u001b[0m \u001b[1;33m%\u001b[0m \u001b[0me\u001b[0m\u001b[1;33m)\u001b[0m\u001b[1;33m\u001b[0m\u001b[0m\n\u001b[0m\u001b[0;32m    449\u001b[0m             \u001b[1;32mbreak\u001b[0m\u001b[1;33m\u001b[0m\u001b[0m\n",
      "\u001b[1;31mSSLError\u001b[0m: (\"bad handshake: SysCallError(-1, 'Unexpected EOF')\",)",
      "\nDuring handling of the above exception, another exception occurred:\n",
      "\u001b[1;31mMaxRetryError\u001b[0m                             Traceback (most recent call last)",
      "\u001b[1;32m~\\AppData\\Local\\Continuum\\anaconda3\\lib\\site-packages\\requests\\adapters.py\u001b[0m in \u001b[0;36msend\u001b[1;34m(self, request, stream, timeout, verify, cert, proxies)\u001b[0m\n\u001b[0;32m    439\u001b[0m                     \u001b[0mretries\u001b[0m\u001b[1;33m=\u001b[0m\u001b[0mself\u001b[0m\u001b[1;33m.\u001b[0m\u001b[0mmax_retries\u001b[0m\u001b[1;33m,\u001b[0m\u001b[1;33m\u001b[0m\u001b[0m\n\u001b[1;32m--> 440\u001b[1;33m                     \u001b[0mtimeout\u001b[0m\u001b[1;33m=\u001b[0m\u001b[0mtimeout\u001b[0m\u001b[1;33m\u001b[0m\u001b[0m\n\u001b[0m\u001b[0;32m    441\u001b[0m                 )\n",
      "\u001b[1;32m~\\AppData\\Local\\Continuum\\anaconda3\\lib\\site-packages\\urllib3\\connectionpool.py\u001b[0m in \u001b[0;36murlopen\u001b[1;34m(self, method, url, body, headers, retries, redirect, assert_same_host, timeout, pool_timeout, release_conn, chunked, body_pos, **response_kw)\u001b[0m\n\u001b[0;32m    638\u001b[0m             retries = retries.increment(method, url, error=e, _pool=self,\n\u001b[1;32m--> 639\u001b[1;33m                                         _stacktrace=sys.exc_info()[2])\n\u001b[0m\u001b[0;32m    640\u001b[0m             \u001b[0mretries\u001b[0m\u001b[1;33m.\u001b[0m\u001b[0msleep\u001b[0m\u001b[1;33m(\u001b[0m\u001b[1;33m)\u001b[0m\u001b[1;33m\u001b[0m\u001b[0m\n",
      "\u001b[1;32m~\\AppData\\Local\\Continuum\\anaconda3\\lib\\site-packages\\urllib3\\util\\retry.py\u001b[0m in \u001b[0;36mincrement\u001b[1;34m(self, method, url, response, error, _pool, _stacktrace)\u001b[0m\n\u001b[0;32m    387\u001b[0m         \u001b[1;32mif\u001b[0m \u001b[0mnew_retry\u001b[0m\u001b[1;33m.\u001b[0m\u001b[0mis_exhausted\u001b[0m\u001b[1;33m(\u001b[0m\u001b[1;33m)\u001b[0m\u001b[1;33m:\u001b[0m\u001b[1;33m\u001b[0m\u001b[0m\n\u001b[1;32m--> 388\u001b[1;33m             \u001b[1;32mraise\u001b[0m \u001b[0mMaxRetryError\u001b[0m\u001b[1;33m(\u001b[0m\u001b[0m_pool\u001b[0m\u001b[1;33m,\u001b[0m \u001b[0murl\u001b[0m\u001b[1;33m,\u001b[0m \u001b[0merror\u001b[0m \u001b[1;32mor\u001b[0m \u001b[0mResponseError\u001b[0m\u001b[1;33m(\u001b[0m\u001b[0mcause\u001b[0m\u001b[1;33m)\u001b[0m\u001b[1;33m)\u001b[0m\u001b[1;33m\u001b[0m\u001b[0m\n\u001b[0m\u001b[0;32m    389\u001b[0m \u001b[1;33m\u001b[0m\u001b[0m\n",
      "\u001b[1;31mMaxRetryError\u001b[0m: HTTPSConnectionPool(host='postcode.my', port=443): Max retries exceeded with url: /search/?keyword=&state=Johor&page=66 (Caused by SSLError(SSLError(\"bad handshake: SysCallError(-1, 'Unexpected EOF')\",),))",
      "\nDuring handling of the above exception, another exception occurred:\n",
      "\u001b[1;31mSSLError\u001b[0m                                  Traceback (most recent call last)",
      "\u001b[1;32m<ipython-input-424-22bb1af44346>\u001b[0m in \u001b[0;36m<module>\u001b[1;34m()\u001b[0m\n\u001b[0;32m     13\u001b[0m     \u001b[0mk\u001b[0m\u001b[1;33m=\u001b[0m\u001b[0mstr\u001b[0m\u001b[1;33m(\u001b[0m\u001b[0mk\u001b[0m\u001b[1;33m)\u001b[0m\u001b[1;33m\u001b[0m\u001b[0m\n\u001b[0;32m     14\u001b[0m     \u001b[0mtime\u001b[0m\u001b[1;33m.\u001b[0m\u001b[0msleep\u001b[0m\u001b[1;33m(\u001b[0m\u001b[1;36m30\u001b[0m\u001b[1;33m)\u001b[0m\u001b[1;33m\u001b[0m\u001b[0m\n\u001b[1;32m---> 15\u001b[1;33m     \u001b[0mpage\u001b[0m \u001b[1;33m=\u001b[0m \u001b[0mrequests\u001b[0m\u001b[1;33m.\u001b[0m\u001b[0mget\u001b[0m\u001b[1;33m(\u001b[0m\u001b[1;34m\"https://postcode.my/search/?keyword=&state=Johor&page=\"\u001b[0m\u001b[1;33m+\u001b[0m\u001b[0mk\u001b[0m\u001b[1;33m)\u001b[0m\u001b[1;33m\u001b[0m\u001b[0m\n\u001b[0m\u001b[0;32m     16\u001b[0m \u001b[1;31m#### check page status (will come 200 if the page is ok)\u001b[0m\u001b[1;33m\u001b[0m\u001b[1;33m\u001b[0m\u001b[0m\n\u001b[0;32m     17\u001b[0m     \u001b[0mpage\u001b[0m\u001b[1;33m.\u001b[0m\u001b[0mstatus_code\u001b[0m\u001b[1;33m\u001b[0m\u001b[0m\n",
      "\u001b[1;32m~\\AppData\\Local\\Continuum\\anaconda3\\lib\\site-packages\\requests\\api.py\u001b[0m in \u001b[0;36mget\u001b[1;34m(url, params, **kwargs)\u001b[0m\n\u001b[0;32m     70\u001b[0m \u001b[1;33m\u001b[0m\u001b[0m\n\u001b[0;32m     71\u001b[0m     \u001b[0mkwargs\u001b[0m\u001b[1;33m.\u001b[0m\u001b[0msetdefault\u001b[0m\u001b[1;33m(\u001b[0m\u001b[1;34m'allow_redirects'\u001b[0m\u001b[1;33m,\u001b[0m \u001b[1;32mTrue\u001b[0m\u001b[1;33m)\u001b[0m\u001b[1;33m\u001b[0m\u001b[0m\n\u001b[1;32m---> 72\u001b[1;33m     \u001b[1;32mreturn\u001b[0m \u001b[0mrequest\u001b[0m\u001b[1;33m(\u001b[0m\u001b[1;34m'get'\u001b[0m\u001b[1;33m,\u001b[0m \u001b[0murl\u001b[0m\u001b[1;33m,\u001b[0m \u001b[0mparams\u001b[0m\u001b[1;33m=\u001b[0m\u001b[0mparams\u001b[0m\u001b[1;33m,\u001b[0m \u001b[1;33m**\u001b[0m\u001b[0mkwargs\u001b[0m\u001b[1;33m)\u001b[0m\u001b[1;33m\u001b[0m\u001b[0m\n\u001b[0m\u001b[0;32m     73\u001b[0m \u001b[1;33m\u001b[0m\u001b[0m\n\u001b[0;32m     74\u001b[0m \u001b[1;33m\u001b[0m\u001b[0m\n",
      "\u001b[1;32m~\\AppData\\Local\\Continuum\\anaconda3\\lib\\site-packages\\requests\\api.py\u001b[0m in \u001b[0;36mrequest\u001b[1;34m(method, url, **kwargs)\u001b[0m\n\u001b[0;32m     56\u001b[0m     \u001b[1;31m# cases, and look like a memory leak in others.\u001b[0m\u001b[1;33m\u001b[0m\u001b[1;33m\u001b[0m\u001b[0m\n\u001b[0;32m     57\u001b[0m     \u001b[1;32mwith\u001b[0m \u001b[0msessions\u001b[0m\u001b[1;33m.\u001b[0m\u001b[0mSession\u001b[0m\u001b[1;33m(\u001b[0m\u001b[1;33m)\u001b[0m \u001b[1;32mas\u001b[0m \u001b[0msession\u001b[0m\u001b[1;33m:\u001b[0m\u001b[1;33m\u001b[0m\u001b[0m\n\u001b[1;32m---> 58\u001b[1;33m         \u001b[1;32mreturn\u001b[0m \u001b[0msession\u001b[0m\u001b[1;33m.\u001b[0m\u001b[0mrequest\u001b[0m\u001b[1;33m(\u001b[0m\u001b[0mmethod\u001b[0m\u001b[1;33m=\u001b[0m\u001b[0mmethod\u001b[0m\u001b[1;33m,\u001b[0m \u001b[0murl\u001b[0m\u001b[1;33m=\u001b[0m\u001b[0murl\u001b[0m\u001b[1;33m,\u001b[0m \u001b[1;33m**\u001b[0m\u001b[0mkwargs\u001b[0m\u001b[1;33m)\u001b[0m\u001b[1;33m\u001b[0m\u001b[0m\n\u001b[0m\u001b[0;32m     59\u001b[0m \u001b[1;33m\u001b[0m\u001b[0m\n\u001b[0;32m     60\u001b[0m \u001b[1;33m\u001b[0m\u001b[0m\n",
      "\u001b[1;32m~\\AppData\\Local\\Continuum\\anaconda3\\lib\\site-packages\\requests\\sessions.py\u001b[0m in \u001b[0;36mrequest\u001b[1;34m(self, method, url, params, data, headers, cookies, files, auth, timeout, allow_redirects, proxies, hooks, stream, verify, cert, json)\u001b[0m\n\u001b[0;32m    506\u001b[0m         }\n\u001b[0;32m    507\u001b[0m         \u001b[0msend_kwargs\u001b[0m\u001b[1;33m.\u001b[0m\u001b[0mupdate\u001b[0m\u001b[1;33m(\u001b[0m\u001b[0msettings\u001b[0m\u001b[1;33m)\u001b[0m\u001b[1;33m\u001b[0m\u001b[0m\n\u001b[1;32m--> 508\u001b[1;33m         \u001b[0mresp\u001b[0m \u001b[1;33m=\u001b[0m \u001b[0mself\u001b[0m\u001b[1;33m.\u001b[0m\u001b[0msend\u001b[0m\u001b[1;33m(\u001b[0m\u001b[0mprep\u001b[0m\u001b[1;33m,\u001b[0m \u001b[1;33m**\u001b[0m\u001b[0msend_kwargs\u001b[0m\u001b[1;33m)\u001b[0m\u001b[1;33m\u001b[0m\u001b[0m\n\u001b[0m\u001b[0;32m    509\u001b[0m \u001b[1;33m\u001b[0m\u001b[0m\n\u001b[0;32m    510\u001b[0m         \u001b[1;32mreturn\u001b[0m \u001b[0mresp\u001b[0m\u001b[1;33m\u001b[0m\u001b[0m\n",
      "\u001b[1;32m~\\AppData\\Local\\Continuum\\anaconda3\\lib\\site-packages\\requests\\sessions.py\u001b[0m in \u001b[0;36msend\u001b[1;34m(self, request, **kwargs)\u001b[0m\n\u001b[0;32m    616\u001b[0m \u001b[1;33m\u001b[0m\u001b[0m\n\u001b[0;32m    617\u001b[0m         \u001b[1;31m# Send the request\u001b[0m\u001b[1;33m\u001b[0m\u001b[1;33m\u001b[0m\u001b[0m\n\u001b[1;32m--> 618\u001b[1;33m         \u001b[0mr\u001b[0m \u001b[1;33m=\u001b[0m \u001b[0madapter\u001b[0m\u001b[1;33m.\u001b[0m\u001b[0msend\u001b[0m\u001b[1;33m(\u001b[0m\u001b[0mrequest\u001b[0m\u001b[1;33m,\u001b[0m \u001b[1;33m**\u001b[0m\u001b[0mkwargs\u001b[0m\u001b[1;33m)\u001b[0m\u001b[1;33m\u001b[0m\u001b[0m\n\u001b[0m\u001b[0;32m    619\u001b[0m \u001b[1;33m\u001b[0m\u001b[0m\n\u001b[0;32m    620\u001b[0m         \u001b[1;31m# Total elapsed time of the request (approximately)\u001b[0m\u001b[1;33m\u001b[0m\u001b[1;33m\u001b[0m\u001b[0m\n",
      "\u001b[1;32m~\\AppData\\Local\\Continuum\\anaconda3\\lib\\site-packages\\requests\\adapters.py\u001b[0m in \u001b[0;36msend\u001b[1;34m(self, request, stream, timeout, verify, cert, proxies)\u001b[0m\n\u001b[0;32m    504\u001b[0m             \u001b[1;32mif\u001b[0m \u001b[0misinstance\u001b[0m\u001b[1;33m(\u001b[0m\u001b[0me\u001b[0m\u001b[1;33m.\u001b[0m\u001b[0mreason\u001b[0m\u001b[1;33m,\u001b[0m \u001b[0m_SSLError\u001b[0m\u001b[1;33m)\u001b[0m\u001b[1;33m:\u001b[0m\u001b[1;33m\u001b[0m\u001b[0m\n\u001b[0;32m    505\u001b[0m                 \u001b[1;31m# This branch is for urllib3 v1.22 and later.\u001b[0m\u001b[1;33m\u001b[0m\u001b[1;33m\u001b[0m\u001b[0m\n\u001b[1;32m--> 506\u001b[1;33m                 \u001b[1;32mraise\u001b[0m \u001b[0mSSLError\u001b[0m\u001b[1;33m(\u001b[0m\u001b[0me\u001b[0m\u001b[1;33m,\u001b[0m \u001b[0mrequest\u001b[0m\u001b[1;33m=\u001b[0m\u001b[0mrequest\u001b[0m\u001b[1;33m)\u001b[0m\u001b[1;33m\u001b[0m\u001b[0m\n\u001b[0m\u001b[0;32m    507\u001b[0m \u001b[1;33m\u001b[0m\u001b[0m\n\u001b[0;32m    508\u001b[0m             \u001b[1;32mraise\u001b[0m \u001b[0mConnectionError\u001b[0m\u001b[1;33m(\u001b[0m\u001b[0me\u001b[0m\u001b[1;33m,\u001b[0m \u001b[0mrequest\u001b[0m\u001b[1;33m=\u001b[0m\u001b[0mrequest\u001b[0m\u001b[1;33m)\u001b[0m\u001b[1;33m\u001b[0m\u001b[0m\n",
      "\u001b[1;31mSSLError\u001b[0m: HTTPSConnectionPool(host='postcode.my', port=443): Max retries exceeded with url: /search/?keyword=&state=Johor&page=66 (Caused by SSLError(SSLError(\"bad handshake: SysCallError(-1, 'Unexpected EOF')\",),))"
     ]
    }
   ],
   "source": [
    "import requests\n",
    "import pandas\n",
    "import numpy\n",
    "import re\n",
    "import csv\n",
    "import time\n",
    "\n",
    "L = []\n",
    "\n",
    "from bs4 import BeautifulSoup\n",
    "#### page info ###\n",
    "for k in range (1,378):\n",
    "    k=str(k)\n",
    "    time.sleep(30)\n",
    "    page = requests.get(\"https://postcode.my/search/?keyword=&state=Johor&page=\"+k)\n",
    "#### check page status (will come 200 if the page is ok) \n",
    "    page.status_code\n",
    "### call Library\n",
    "    soup = BeautifulSoup(page.content, 'html.parser')\n",
    "### Find rows \n",
    "    rows = soup.find_all(class_=\"col-lg-12 col-md-12 col-sm-12 col-xs-12\")\n",
    "## create list by append\n",
    "\n",
    "    for row in rows:\n",
    "        cols = row.find_all(\"td\")\n",
    "        cols = [x.text.strip() for x in cols]\n",
    "        L.append(cols)\n",
    "\n",
    "## convert to numpy array and reshape to 4 columns \n",
    "cols = ['LOCATION','AREA','STATE','POSTCODE']\n",
    "PDTABLE = pandas.DataFrame(numpy.array(L).reshape(-1,4),columns = cols)\n",
    "PDTABLE.to_csv('Johor.csv')\n"
   ]
  },
  {
   "cell_type": "code",
   "execution_count": 421,
   "metadata": {},
   "outputs": [
    {
     "name": "stdout",
     "output_type": "stream",
     "text": [
      "                      LOCATION                       AREA  STATE POSTCODE\n",
      "0             Taman Sri Gedong              Sungai Petani  Kedah    08000\n",
      "1             Taman Sri Halban                      Jitra  Kedah    06000\n",
      "2             Taman Sri Idaman                Kuala Kedah  Kedah    06600\n",
      "3            Taman Sri Kenanga                      Kulim  Kedah    09000\n",
      "4           Taman Sri Kenangan               Kuala Nerang  Kedah    06300\n",
      "5               Taman Sri Kota                    Langgar  Kedah    06500\n",
      "6             Taman Sri Landak                     Kupang  Kedah    09200\n",
      "7            Taman Sri Menanti                  Changloon  Kedah    06010\n",
      "8              Taman Sri Mesra                     Bedong  Kedah    08110\n",
      "9              Taman Sri Murni                      Jitra  Kedah    06000\n",
      "10              Taman Sri Naga               Kepala Batas  Kedah    06200\n",
      "11            Taman Sri Nerang                 Pokok Sena  Kedah    06350\n",
      "12           Taman Sri Nyiur 2                      Jitra  Kedah    06000\n",
      "13              Taman Sri Pagi                 Alor Setar  Kedah    05400\n",
      "14              Taman Sri Puyu                 Alor Setar  Kedah    05150\n",
      "15           Taman Sri Sentosa                      Kulim  Kedah    09000\n",
      "16             Taman Sri Taman                   Langkawi  Kedah    07000\n",
      "17        Taman Sri Telok Wang              Sungai Petani  Kedah    08000\n",
      "18             Taman Sri Utama                      Jitra  Kedah    06000\n",
      "19              Taman Sri Wang              Sungai Petani  Kedah    08000\n",
      "20             Taman Sri Wangi              Sungai Petani  Kedah    08000\n",
      "21               Taman Stadium                 Alor Setar  Kedah    05100\n",
      "22                  Taman Star                 Alor Setar  Kedah    05400\n",
      "23                 Taman Suasa                      Kulim  Kedah    09000\n",
      "24         Taman Suasana Damai                      Jitra  Kedah    06000\n",
      "25         Taman Suasana Indah                      Jitra  Kedah    06000\n",
      "26              Taman Sulaiman                      Kulim  Kedah    09000\n",
      "27    Taman Sultan Abdul Halim                 Alor Setar  Kedah    05300\n",
      "28      Taman Sultan Badlishah                 Alor Setar  Kedah    05050\n",
      "29            Taman Sungai Kob                   Karangan  Kedah    09700\n",
      "..                         ...                        ...    ...      ...\n",
      "50           Taman Tengku Anum                      Jitra  Kedah    06000\n",
      "51      Taman Tengku Bendahara                 Alor Setar  Kedah    06550\n",
      "52        Taman Tengku Maheran                      Jitra  Kedah    06000\n",
      "53          Taman Tengku Putra                      Kulim  Kedah    09000\n",
      "54         Taman Tengku Sarina                      Jitra  Kedah    06000\n",
      "55         Taman Tengku Yakoob                 Alor Setar  Kedah    05400\n",
      "56              Taman Terantai                    Langgar  Kedah    06500\n",
      "57               Taman Teratai                      Jitra  Kedah    06000\n",
      "58               Taman Teratai                      Kulim  Kedah    09000\n",
      "59               Taman Teratai              Sungai Petani  Kedah    08000\n",
      "60      Tenaga Nasional Berhad                 Alor Setar  Kedah    05673\n",
      "61                 Terai Bukit                      Gurun  Kedah    08800\n",
      "62                       Teroi                      Kulim  Kedah    09000\n",
      "63            Thye Seng Estate                     Bedong  Kedah    08100\n",
      "64                  Tikam Batu                    Jeniang  Kedah    08700\n",
      "65     Titi Gajah (Batu 6 1/2)                 Alor Setar  Kedah    06570\n",
      "66             Titi Haji Idris                    Langgar  Kedah    06500\n",
      "67               Titi Karangan                      Lunas  Kedah    09600\n",
      "68                 Titi Keling                 Alor Setar  Kedah    05400\n",
      "69  Titi Serong (Jalan Dulang)                        Yan  Kedah    06900\n",
      "70                      Tobiar                    Pendang  Kedah    06700\n",
      "71                   Tok Jalai                      Jitra  Kedah    06000\n",
      "72                   Tok Puyuh                   Langkawi  Kedah    07000\n",
      "73                       Tokai                 Alor Setar  Kedah    06660\n",
      "74               Tongkang Yard                 Alor Setar  Kedah    05050\n",
      "75                     Tunjang                      Jitra  Kedah    06000\n",
      "76                  Ulu Melaka                   Langkawi  Kedah    07000\n",
      "77                    Ulu Riau                    Serdang  Kedah    09800\n",
      "78   Universiti Utara Malaysia  Universiti Utara Malaysia  Kedah    06010\n",
      "79             Wisma Darulaman                 Alor Setar  Kedah    05000\n",
      "\n",
      "[80 rows x 4 columns]\n"
     ]
    }
   ],
   "source": [
    "print(PDTABLE)"
   ]
  },
  {
   "cell_type": "code",
   "execution_count": 422,
   "metadata": {},
   "outputs": [],
   "source": [
    "PDTABLE.to_csv('kedah3.csv')"
   ]
  },
  {
   "cell_type": "code",
   "execution_count": 423,
   "metadata": {},
   "outputs": [
    {
     "data": {
      "text/plain": [
       "'D:\\\\Users\\\\YLARAILE\\\\WEBSCRAP'"
      ]
     },
     "execution_count": 423,
     "metadata": {},
     "output_type": "execute_result"
    }
   ],
   "source": [
    "pwd"
   ]
  },
  {
   "cell_type": "code",
   "execution_count": null,
   "metadata": {},
   "outputs": [],
   "source": []
  }
 ],
 "metadata": {
  "kernelspec": {
   "display_name": "Python 3",
   "language": "python",
   "name": "python3"
  },
  "language_info": {
   "codemirror_mode": {
    "name": "ipython",
    "version": 3
   },
   "file_extension": ".py",
   "mimetype": "text/x-python",
   "name": "python",
   "nbconvert_exporter": "python",
   "pygments_lexer": "ipython3",
   "version": "3.6.5"
  }
 },
 "nbformat": 4,
 "nbformat_minor": 2
}
