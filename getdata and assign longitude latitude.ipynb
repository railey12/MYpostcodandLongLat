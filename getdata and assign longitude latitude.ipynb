{
 "cells": [
  {
   "cell_type": "code",
   "execution_count": 4,
   "metadata": {},
   "outputs": [],
   "source": [
    "import requests\n",
    "import pandas as pd\n",
    "import numpy\n",
    "import re\n",
    "import csv\n",
    "import time\n",
    "\n",
    "L = []\n",
    "\n",
    "from bs4 import BeautifulSoup\n",
    "#### page info ###\n",
    "for k in range (1,378):\n",
    "    k=str(k)\n",
    "    time.sleep(30)\n",
    "    page = requests.get(\"https://postcode.my/search/?keyword=&state=Johor&page=\"+k)\n",
    "#### check page status (will come 200 if the page is ok) \n",
    "    page.status_code\n",
    "### call Library\n",
    "    soup = BeautifulSoup(page.content, 'html.parser')\n",
    "### Find rows \n",
    "    rows = soup.find_all(class_=\"col-lg-12 col-md-12 col-sm-12 col-xs-12\")\n",
    "## create list by append\n",
    "\n",
    "    for row in rows:\n",
    "        cols = row.find_all(\"td\")\n",
    "        cols = [x.text.strip() for x in cols]\n",
    "        L.append(cols)\n",
    "\n",
    "## convert to numpy array and reshape to 4 columns \n",
    "cols = ['LOCATION','AREA','STATE','POSTCODE']\n",
    "PDTABLE = pd.DataFrame(numpy.array(L).reshape(-1,4),columns = cols)\n",
    "PDTABLE.to_csv('Johor.csv')"
   ]
  },
  {
   "cell_type": "code",
   "execution_count": null,
   "metadata": {},
   "outputs": [],
   "source": [
    "from geopy.geocoders import Nominatim\n",
    "list = pd.read_csv('ALL-POSTCODES.csv',encoding = \"ISO-8859-1\",index_col= 0)\n",
    "FULL = list['FULL PLACE'].unique()\n",
    "geolocater = Nominatim(user_agent = \"Railey\")\n",
    "df = pd.DataFrame(columns= ['FullName','Long','Lat','Longlat'])\n",
    "for x in range(len(FULL)): \n",
    "    place = FULL[x]\n",
    "    location = geolocater.geocode(place, timeout =20)\n",
    "    longlat = location.latitude,location.longitude\n",
    "    df = df.append({'FullName': place,'Long':location.longitude,'Lat':location.latitude,'Longlat':longlat}, ignore_index=True)"
   ]
  },
  {
   "cell_type": "code",
   "execution_count": null,
   "metadata": {},
   "outputs": [],
   "source": []
  }
 ],
 "metadata": {
  "kernelspec": {
   "display_name": "Python 3",
   "language": "python",
   "name": "python3"
  },
  "language_info": {
   "codemirror_mode": {
    "name": "ipython",
    "version": 3
   },
   "file_extension": ".py",
   "mimetype": "text/x-python",
   "name": "python",
   "nbconvert_exporter": "python",
   "pygments_lexer": "ipython3",
   "version": "3.6.5"
  }
 },
 "nbformat": 4,
 "nbformat_minor": 2
}
